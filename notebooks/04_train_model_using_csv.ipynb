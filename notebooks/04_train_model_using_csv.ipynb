{
 "cells": [
  {
   "cell_type": "markdown",
   "metadata": {},
   "source": [
    "# 🚂 Train Delay Prediction Model Training (CSV Version)\n",
    "\n",
    "This notebook trains a machine learning model to predict train delays using historical data from local CSV files.\n",
    "\n",
    "## Steps:\n",
    "1. Load and explore data from CSV\n",
    "2. Feature engineering\n",
    "3. Train model\n",
    "4. Evaluate performance\n",
    "5. Save model for deployment"
   ]
  },
  {
   "cell_type": "code",
   "execution_count": 137,
   "metadata": {},
   "outputs": [],
   "source": [
    "# Install required packages\n",
    "# !pip install pandas numpy scikit-learn xgboost matplotlib joblib seaborn"
   ]
  },
  {
   "cell_type": "code",
   "execution_count": 138,
   "metadata": {},
   "outputs": [],
   "source": [
    "import pandas as pd\n",
    "import numpy as np\n",
    "import matplotlib.pyplot as plt\n",
    "import seaborn as sns\n",
    "from sklearn.model_selection import train_test_split\n",
    "from sklearn.preprocessing import LabelEncoder, StandardScaler\n",
    "from sklearn.metrics import mean_squared_error, mean_absolute_error, r2_score\n",
    "from sklearn.ensemble import RandomForestRegressor\n",
    "import xgboost as xgb\n",
    "import joblib\n",
    "import warnings\n",
    "import ast\n",
    "\n",
    "warnings.filterwarnings('ignore')\n",
    "\n",
    "plt.style.use('seaborn-v0_8')\n",
    "sns.set_palette(\"husl\")"
   ]
  },
  {
   "cell_type": "markdown",
   "metadata": {},
   "source": [
    "## 1. Data Loading and Exploration (from CSV)"
   ]
  },
  {
   "cell_type": "code",
   "execution_count": 139,
   "metadata": {},
   "outputs": [
    {
     "name": "stdout",
     "output_type": "stream",
     "text": [
      "InformationOwner: 10000\n",
      "Operator: 9999\n",
      "TrainOwner: 9875\n",
      "Loaded 10,000 records\n",
      "Data shape: (10000, 58)\n"
     ]
    },
    {
     "data": {
      "text/html": [
       "<div>\n",
       "<style scoped>\n",
       "    .dataframe tbody tr th:only-of-type {\n",
       "        vertical-align: middle;\n",
       "    }\n",
       "\n",
       "    .dataframe tbody tr th {\n",
       "        vertical-align: top;\n",
       "    }\n",
       "\n",
       "    .dataframe thead th {\n",
       "        text-align: right;\n",
       "    }\n",
       "</style>\n",
       "<table border=\"1\" class=\"dataframe\">\n",
       "  <thead>\n",
       "    <tr style=\"text-align: right;\">\n",
       "      <th></th>\n",
       "      <th>ActivityId</th>\n",
       "      <th>ActivityType</th>\n",
       "      <th>Advertised</th>\n",
       "      <th>AdvertisedTimeAtLocation</th>\n",
       "      <th>AdvertisedTrainIdent</th>\n",
       "      <th>Canceled</th>\n",
       "      <th>Deleted</th>\n",
       "      <th>DepartureDateOTN</th>\n",
       "      <th>Deviation</th>\n",
       "      <th>EstimatedTimeIsPreliminary</th>\n",
       "      <th>...</th>\n",
       "      <th>CountryCode_to</th>\n",
       "      <th>CountyNo_to</th>\n",
       "      <th>Deleted_to</th>\n",
       "      <th>LocationSignature_to</th>\n",
       "      <th>Prognosticated_to</th>\n",
       "      <th>OfficialLocationName_to</th>\n",
       "      <th>Geometry.SWEREF99TM_to</th>\n",
       "      <th>Geometry.WGS84_to</th>\n",
       "      <th>from_station</th>\n",
       "      <th>to_station</th>\n",
       "    </tr>\n",
       "  </thead>\n",
       "  <tbody>\n",
       "    <tr>\n",
       "      <th>0</th>\n",
       "      <td>1500adde-385d-31b6-08dd-903eab6b3e79</td>\n",
       "      <td>Avgang</td>\n",
       "      <td>True</td>\n",
       "      <td>2025-05-26 00:00:00+02:00</td>\n",
       "      <td>2983</td>\n",
       "      <td>False</td>\n",
       "      <td>False</td>\n",
       "      <td>2025-05-26T00:00:00.000+02:00</td>\n",
       "      <td>[{'Code': 'ANA031', 'Description': 'Kort tåg'}]</td>\n",
       "      <td>False</td>\n",
       "      <td>...</td>\n",
       "      <td></td>\n",
       "      <td></td>\n",
       "      <td></td>\n",
       "      <td></td>\n",
       "      <td></td>\n",
       "      <td></td>\n",
       "      <td></td>\n",
       "      <td></td>\n",
       "      <td>Mr</td>\n",
       "      <td>Äs</td>\n",
       "    </tr>\n",
       "    <tr>\n",
       "      <th>1</th>\n",
       "      <td>1500adde-385d-31b6-08dd-903ec887c620</td>\n",
       "      <td>Avgang</td>\n",
       "      <td>True</td>\n",
       "      <td>2025-05-26 00:03:00+02:00</td>\n",
       "      <td>63591</td>\n",
       "      <td>False</td>\n",
       "      <td>False</td>\n",
       "      <td>0001-01-01T00:00:00.000+01:00</td>\n",
       "      <td>[{'Code': 'ANA274', 'Description': 'Buss 22R'}...</td>\n",
       "      <td>False</td>\n",
       "      <td>...</td>\n",
       "      <td></td>\n",
       "      <td></td>\n",
       "      <td></td>\n",
       "      <td></td>\n",
       "      <td></td>\n",
       "      <td></td>\n",
       "      <td></td>\n",
       "      <td></td>\n",
       "      <td>Lr</td>\n",
       "      <td>G</td>\n",
       "    </tr>\n",
       "    <tr>\n",
       "      <th>2</th>\n",
       "      <td>1500adde-385d-31b6-08dd-903ec43fcb52</td>\n",
       "      <td>Avgang</td>\n",
       "      <td>True</td>\n",
       "      <td>2025-05-26 00:03:00+02:00</td>\n",
       "      <td>52277</td>\n",
       "      <td>False</td>\n",
       "      <td>False</td>\n",
       "      <td>2025-05-26T00:00:00.000+02:00</td>\n",
       "      <td>[{'Code': 'ANA031', 'Description': 'Kort tåg'}]</td>\n",
       "      <td>False</td>\n",
       "      <td>...</td>\n",
       "      <td></td>\n",
       "      <td></td>\n",
       "      <td></td>\n",
       "      <td></td>\n",
       "      <td></td>\n",
       "      <td></td>\n",
       "      <td></td>\n",
       "      <td></td>\n",
       "      <td>Söc</td>\n",
       "      <td>Gn</td>\n",
       "    </tr>\n",
       "    <tr>\n",
       "      <th>3</th>\n",
       "      <td>1500adde-385d-31b6-08dd-903e4bd58ac3</td>\n",
       "      <td>Avgang</td>\n",
       "      <td>True</td>\n",
       "      <td>2025-05-26 00:04:00+02:00</td>\n",
       "      <td>1243</td>\n",
       "      <td>True</td>\n",
       "      <td>False</td>\n",
       "      <td>2025-05-26T00:00:00.000+02:00</td>\n",
       "      <td>[{'Code': 'ANA007', 'Description': 'Buss ersät...</td>\n",
       "      <td>False</td>\n",
       "      <td>...</td>\n",
       "      <td></td>\n",
       "      <td></td>\n",
       "      <td></td>\n",
       "      <td></td>\n",
       "      <td></td>\n",
       "      <td></td>\n",
       "      <td></td>\n",
       "      <td></td>\n",
       "      <td>Cr</td>\n",
       "      <td>Hm</td>\n",
       "    </tr>\n",
       "    <tr>\n",
       "      <th>4</th>\n",
       "      <td>1500adde-385d-31b6-08dd-903eb9d748cf</td>\n",
       "      <td>Avgang</td>\n",
       "      <td>True</td>\n",
       "      <td>2025-05-26 00:04:00+02:00</td>\n",
       "      <td>3594</td>\n",
       "      <td>False</td>\n",
       "      <td>False</td>\n",
       "      <td>2025-05-26T00:00:00.000+02:00</td>\n",
       "      <td></td>\n",
       "      <td>False</td>\n",
       "      <td>...</td>\n",
       "      <td></td>\n",
       "      <td></td>\n",
       "      <td></td>\n",
       "      <td></td>\n",
       "      <td></td>\n",
       "      <td></td>\n",
       "      <td></td>\n",
       "      <td></td>\n",
       "      <td>Lr</td>\n",
       "      <td>A</td>\n",
       "    </tr>\n",
       "  </tbody>\n",
       "</table>\n",
       "<p>5 rows × 58 columns</p>\n",
       "</div>"
      ],
      "text/plain": [
       "                             ActivityId ActivityType  Advertised  \\\n",
       "0  1500adde-385d-31b6-08dd-903eab6b3e79       Avgang        True   \n",
       "1  1500adde-385d-31b6-08dd-903ec887c620       Avgang        True   \n",
       "2  1500adde-385d-31b6-08dd-903ec43fcb52       Avgang        True   \n",
       "3  1500adde-385d-31b6-08dd-903e4bd58ac3       Avgang        True   \n",
       "4  1500adde-385d-31b6-08dd-903eb9d748cf       Avgang        True   \n",
       "\n",
       "    AdvertisedTimeAtLocation  AdvertisedTrainIdent  Canceled  Deleted  \\\n",
       "0  2025-05-26 00:00:00+02:00                  2983     False    False   \n",
       "1  2025-05-26 00:03:00+02:00                 63591     False    False   \n",
       "2  2025-05-26 00:03:00+02:00                 52277     False    False   \n",
       "3  2025-05-26 00:04:00+02:00                  1243      True    False   \n",
       "4  2025-05-26 00:04:00+02:00                  3594     False    False   \n",
       "\n",
       "                DepartureDateOTN  \\\n",
       "0  2025-05-26T00:00:00.000+02:00   \n",
       "1  0001-01-01T00:00:00.000+01:00   \n",
       "2  2025-05-26T00:00:00.000+02:00   \n",
       "3  2025-05-26T00:00:00.000+02:00   \n",
       "4  2025-05-26T00:00:00.000+02:00   \n",
       "\n",
       "                                           Deviation  \\\n",
       "0    [{'Code': 'ANA031', 'Description': 'Kort tåg'}]   \n",
       "1  [{'Code': 'ANA274', 'Description': 'Buss 22R'}...   \n",
       "2    [{'Code': 'ANA031', 'Description': 'Kort tåg'}]   \n",
       "3  [{'Code': 'ANA007', 'Description': 'Buss ersät...   \n",
       "4                                                      \n",
       "\n",
       "   EstimatedTimeIsPreliminary  ... CountryCode_to CountyNo_to Deleted_to  \\\n",
       "0                       False  ...                                         \n",
       "1                       False  ...                                         \n",
       "2                       False  ...                                         \n",
       "3                       False  ...                                         \n",
       "4                       False  ...                                         \n",
       "\n",
       "  LocationSignature_to Prognosticated_to  OfficialLocationName_to  \\\n",
       "0                                                                   \n",
       "1                                                                   \n",
       "2                                                                   \n",
       "3                                                                   \n",
       "4                                                                   \n",
       "\n",
       "  Geometry.SWEREF99TM_to  Geometry.WGS84_to  from_station to_station  \n",
       "0                                                      Mr         Äs  \n",
       "1                                                      Lr          G  \n",
       "2                                                     Söc         Gn  \n",
       "3                                                      Cr         Hm  \n",
       "4                                                      Lr          A  \n",
       "\n",
       "[5 rows x 58 columns]"
      ]
     },
     "execution_count": 139,
     "metadata": {},
     "output_type": "execute_result"
    }
   ],
   "source": [
    "# Load local CSVs\n",
    "departures = pd.read_csv('../data/raw/train_departures.csv')\n",
    "stations = pd.read_csv('../data/raw/stations.csv')\n",
    "\n",
    "\n",
    "df = departures.merge(\n",
    "    stations, left_on='FromLocation', right_on='LocationSignature', how='left', suffixes=('', '_from')\n",
    ").merge(\n",
    "    stations, left_on='ToLocation', right_on='LocationSignature', how='left', suffixes=('', '_to')\n",
    ")\n",
    "\n",
    "def extract_location_name(location_str):\n",
    "    \"\"\"\n",
    "    Extracts the LocationName from a string like:\n",
    "    \"[{'LocationName': 'Mr', 'Priority': 1, 'Order': 0}]\"\n",
    "    \"\"\"\n",
    "    try:\n",
    "        # Convert string to Python object (list of dicts)\n",
    "        locations = ast.literal_eval(location_str)\n",
    "        if isinstance(locations, list) and len(locations) > 0:\n",
    "            return locations[0].get('LocationName', None)\n",
    "    except Exception:\n",
    "        pass\n",
    "    return None\n",
    "\n",
    "df['from_station'] = df['FromLocation'].apply(extract_location_name)\n",
    "df['to_station'] = df['ToLocation'].apply(extract_location_name)\n",
    "\n",
    "print('InformationOwner:', df['InformationOwner'].replace('', pd.NA).dropna().shape[0])\n",
    "print('Operator:', df['Operator'].replace('', pd.NA).dropna().shape[0])\n",
    "print('TrainOwner:', df['TrainOwner'].replace('', pd.NA).dropna().shape[0])\n",
    "\n",
    "\n",
    "\n",
    "df[df.select_dtypes(include=['number']).columns] = df.select_dtypes(include=['number']).fillna(0)\n",
    "\n",
    "# Fill string/object columns with empty string\n",
    "df[df.select_dtypes(include=['object']).columns] = df.select_dtypes(include=['object']).fillna('')\n",
    "\n",
    "\n",
    "\n",
    "print(f'Loaded {len(df):,} records')\n",
    "print(f'Data shape: {df.shape}')\n",
    "df.head()\n"
   ]
  },
  {
   "cell_type": "code",
   "execution_count": 140,
   "metadata": {},
   "outputs": [
    {
     "name": "stdout",
     "output_type": "stream",
     "text": [
      "Dataset Info:\n",
      "<class 'pandas.core.frame.DataFrame'>\n",
      "RangeIndex: 10000 entries, 0 to 9999\n",
      "Data columns (total 58 columns):\n",
      " #   Column                                 Non-Null Count  Dtype  \n",
      "---  ------                                 --------------  -----  \n",
      " 0   ActivityId                             10000 non-null  object \n",
      " 1   ActivityType                           10000 non-null  object \n",
      " 2   Advertised                             10000 non-null  bool   \n",
      " 3   AdvertisedTimeAtLocation               10000 non-null  object \n",
      " 4   AdvertisedTrainIdent                   10000 non-null  int64  \n",
      " 5   Canceled                               10000 non-null  bool   \n",
      " 6   Deleted                                10000 non-null  bool   \n",
      " 7   DepartureDateOTN                       10000 non-null  object \n",
      " 8   Deviation                              10000 non-null  object \n",
      " 9   EstimatedTimeIsPreliminary             10000 non-null  bool   \n",
      " 10  FromLocation                           10000 non-null  object \n",
      " 11  InformationOwner                       10000 non-null  object \n",
      " 12  LocationDateTimeOTN                    10000 non-null  object \n",
      " 13  LocationSignature                      10000 non-null  object \n",
      " 14  ModifiedTime                           10000 non-null  object \n",
      " 15  NewEquipment                           10000 non-null  int64  \n",
      " 16  Operator                               10000 non-null  object \n",
      " 17  OperationalTrainNumber                 10000 non-null  float64\n",
      " 18  PlannedEstimatedTimeAtLocationIsValid  10000 non-null  bool   \n",
      " 19  ScheduledDepartureDateTime             10000 non-null  object \n",
      " 20  TimeAtLocation                         10000 non-null  object \n",
      " 21  ToLocation                             10000 non-null  object \n",
      " 22  TrackAtLocation                        10000 non-null  object \n",
      " 23  TrainOwner                             10000 non-null  object \n",
      " 24  Booking                                10000 non-null  object \n",
      " 25  EstimatedTimeAtLocation                10000 non-null  object \n",
      " 26  Service                                10000 non-null  object \n",
      " 27  TrainComposition                       10000 non-null  object \n",
      " 28  PlannedEstimatedTimeAtLocation         10000 non-null  object \n",
      " 29  ViaFromLocation                        10000 non-null  object \n",
      " 30  Hour                                   10000 non-null  int64  \n",
      " 31  DelayMinutes                           10000 non-null  int64  \n",
      " 32  Advertised_from                        10000 non-null  object \n",
      " 33  AdvertisedLocationName                 10000 non-null  object \n",
      " 34  AdvertisedShortLocationName            10000 non-null  object \n",
      " 35  PrimaryLocationCode                    10000 non-null  float64\n",
      " 36  CountryCode                            10000 non-null  object \n",
      " 37  CountyNo                               10000 non-null  object \n",
      " 38  Deleted_from                           10000 non-null  object \n",
      " 39  LocationSignature_from                 10000 non-null  object \n",
      " 40  Prognosticated                         10000 non-null  object \n",
      " 41  OfficialLocationName                   10000 non-null  object \n",
      " 42  Geometry.SWEREF99TM                    10000 non-null  object \n",
      " 43  Geometry.WGS84                         10000 non-null  object \n",
      " 44  Advertised_to                          10000 non-null  object \n",
      " 45  AdvertisedLocationName_to              10000 non-null  object \n",
      " 46  AdvertisedShortLocationName_to         10000 non-null  object \n",
      " 47  PrimaryLocationCode_to                 10000 non-null  float64\n",
      " 48  CountryCode_to                         10000 non-null  object \n",
      " 49  CountyNo_to                            10000 non-null  object \n",
      " 50  Deleted_to                             10000 non-null  object \n",
      " 51  LocationSignature_to                   10000 non-null  object \n",
      " 52  Prognosticated_to                      10000 non-null  object \n",
      " 53  OfficialLocationName_to                10000 non-null  object \n",
      " 54  Geometry.SWEREF99TM_to                 10000 non-null  object \n",
      " 55  Geometry.WGS84_to                      10000 non-null  object \n",
      " 56  from_station                           10000 non-null  object \n",
      " 57  to_station                             10000 non-null  object \n",
      "dtypes: bool(5), float64(3), int64(4), object(46)\n",
      "memory usage: 4.1+ MB\n",
      "None\n",
      "Delay Statistics:\n",
      "count    10000.00000\n",
      "mean         1.56520\n",
      "std          4.37329\n",
      "min         -1.00000\n",
      "25%          0.00000\n",
      "50%          0.00000\n",
      "75%          2.00000\n",
      "max         76.00000\n",
      "Name: DelayMinutes, dtype: float64\n"
     ]
    }
   ],
   "source": [
    "# Basic data exploration\n",
    "print('Dataset Info:')\n",
    "print(df.info())\n",
    "print('Delay Statistics:')\n",
    "print(df['DelayMinutes'].describe())\n",
    "\n"
   ]
  },
  {
   "cell_type": "code",
   "execution_count": 170,
   "metadata": {},
   "outputs": [
    {
     "name": "stdout",
     "output_type": "stream",
     "text": [
      "[<Axes: > <Axes: >]\n"
     ]
    },
    {
     "data": {
      "image/png": "[encoded data removed]",
      "text/plain": [
       "<Figure size 1500x1000 with 2 Axes>"
      ]
     },
     "metadata": {},
     "output_type": "display_data"
    }
   ],
   "source": [
    "# Visualize delay distribution\n",
    "fig, axes = plt.subplots(2, 1, figsize=(15, 10))\n",
    "\n",
    "print(axes)\n",
    "\n",
    "# Delay histogram\n",
    "axes[0].hist(df['DelayMinutes'], bins=50, alpha=0.7, color='skyblue')\n",
    "axes[0].set_title('Distribution of Delays')\n",
    "axes[0].set_xlabel('Delay (minutes)')\n",
    "axes[0].set_ylabel('Frequency')\n",
    "\n",
    " \n",
    "\n",
    "# Top routes by delay\n",
    "df['route'] = df['from_station'] + ' → ' + df['to_station']\n",
    "top_routes = df.groupby('route')['DelayMinutes'].mean().sort_values(ascending=False).head(10)\n",
    "axes[1].barh(range(len(top_routes)), top_routes.values)\n",
    "axes[1].set_yticks(range(len(top_routes)))\n",
    "axes[1].set_yticklabels(top_routes.index, fontsize=8)\n",
    "axes[1].set_title('Top 10 Routes by Average Delay')\n",
    "axes[1].set_xlabel('Average Delay (minutes)')\n",
    "\n",
    " \n",
    "\n",
    "plt.tight_layout()\n",
    "plt.show()"
   ]
  },
  {
   "cell_type": "markdown",
   "metadata": {},
   "source": [
    "## 3. Feature Engineering"
   ]
  },
  {
   "cell_type": "code",
   "execution_count": 142,
   "metadata": {},
   "outputs": [
    {
     "name": "stdout",
     "output_type": "stream",
     "text": [
      "Created features. New shape: (10000, 63)\n",
      "Features: ['ActivityId', 'ActivityType', 'Advertised', 'AdvertisedTimeAtLocation', 'AdvertisedTrainIdent', 'Canceled', 'Deleted', 'DepartureDateOTN', 'Deviation', 'EstimatedTimeIsPreliminary', 'FromLocation', 'InformationOwner', 'LocationDateTimeOTN', 'LocationSignature', 'ModifiedTime', 'NewEquipment', 'Operator', 'OperationalTrainNumber', 'PlannedEstimatedTimeAtLocationIsValid', 'ScheduledDepartureDateTime', 'TimeAtLocation', 'ToLocation', 'TrackAtLocation', 'TrainOwner', 'Booking', 'EstimatedTimeAtLocation', 'Service', 'TrainComposition', 'PlannedEstimatedTimeAtLocation', 'ViaFromLocation', 'Hour', 'DelayMinutes', 'Advertised_from', 'AdvertisedLocationName', 'AdvertisedShortLocationName', 'PrimaryLocationCode', 'CountryCode', 'CountyNo', 'Deleted_from', 'LocationSignature_from', 'Prognosticated', 'OfficialLocationName', 'Geometry.SWEREF99TM', 'Geometry.WGS84', 'Advertised_to', 'AdvertisedLocationName_to', 'AdvertisedShortLocationName_to', 'PrimaryLocationCode_to', 'CountryCode_to', 'CountyNo_to', 'Deleted_to', 'LocationSignature_to', 'Prognosticated_to', 'OfficialLocationName_to', 'Geometry.SWEREF99TM_to', 'Geometry.WGS84_to', 'from_station', 'to_station', 'route', 'hour_sin', 'hour_cos', 'is_rush_hour', 'is_night']\n"
     ]
    }
   ],
   "source": [
    "def create_features(df):\n",
    "    \"\"\"Create features for training\"\"\"\n",
    "    df = df.copy()\n",
    "    \n",
    "    # Route identifier\n",
    "    df['route'] = df['from_station'] + '_' + df['to_station']\n",
    "    \n",
    "    # Time-based features (cyclical encoding)\n",
    "    df['hour_sin'] = np.sin(2 * np.pi * df['Hour'] / 24)\n",
    "    df['hour_cos'] = np.cos(2 * np.pi * df['Hour'] / 24)\n",
    "    \n",
    "     \n",
    "    \n",
    "    # Peak hour indicators\n",
    "    df['is_rush_hour'] = ((df['Hour'] >= 7) & (df['Hour'] <= 9)) | ((df['Hour'] >= 17) & (df['Hour'] <= 19))\n",
    "    df['is_night'] = (df['Hour'] <= 6) | (df['Hour'] >= 22)\n",
    "    \n",
    "    return df\n",
    "\n",
    "# Apply feature engineering\n",
    "df_features = create_features(df)\n",
    "print(f'Created features. New shape: {df_features.shape}')\n",
    "print(f'Features: {list(df_features.columns)}')"
   ]
  },
  {
   "cell_type": "code",
   "execution_count": 143,
   "metadata": {},
   "outputs": [
    {
     "name": "stdout",
     "output_type": "stream",
     "text": [
      "Target variable (delay) - Mean: 1.57, Std: 4.37\n",
      "Feature matrix shape: (10000, 7)\n"
     ]
    }
   ],
   "source": [
    "# Prepare features for training\n",
    "feature_columns = [\n",
    "    'Hour', 'hour_sin', 'hour_cos',  \n",
    "    'is_rush_hour', 'is_night', 'route', 'InformationOwner'\n",
    "]\n",
    "\n",
    "\n",
    "# Create feature matrix\n",
    "X = df_features[feature_columns].copy()\n",
    "y = df_features['DelayMinutes']\n",
    "\n",
    "\n",
    "# Encode categorical variables\n",
    "label_encoders = {}\n",
    "categorical_columns = ['route', 'InformationOwner']\n",
    "\n",
    "for col in categorical_columns:\n",
    "    le = LabelEncoder()\n",
    "    X[col] = le.fit_transform(X[col].astype(str))\n",
    "    label_encoders[f'{col}_encoder'] = le\n",
    "\n",
    "print(f'Target variable (delay) - Mean: {y.mean():.2f}, Std: {y.std():.2f}')\n",
    "print(f'Feature matrix shape: {X.shape}')"
   ]
  },
  {
   "cell_type": "markdown",
   "metadata": {},
   "source": [
    "## 4. Model Training"
   ]
  },
  {
   "cell_type": "code",
   "execution_count": 144,
   "metadata": {},
   "outputs": [
    {
     "name": "stdout",
     "output_type": "stream",
     "text": [
      "Training set: 8,000 samples\n",
      "Test set: 2,000 samples\n"
     ]
    }
   ],
   "source": [
    "# Split data\n",
    "X_train, X_test, y_train, y_test = train_test_split(\n",
    "    X, y, test_size=0.2, random_state=42\n",
    ")\n",
    "\n",
    "print(f'Training set: {X_train.shape[0]:,} samples')\n",
    "print(f'Test set: {X_test.shape[0]:,} samples')"
   ]
  },
  {
   "cell_type": "code",
   "execution_count": 145,
   "metadata": {},
   "outputs": [
    {
     "name": "stdout",
     "output_type": "stream",
     "text": [
      "Training XGBoost model...\n",
      "XGBoost training completed\n"
     ]
    }
   ],
   "source": [
    "# Train XGBoost model\n",
    "print('Training XGBoost model...')\n",
    "\n",
    "xgb_model = xgb.XGBRegressor(\n",
    "    n_estimators=100,\n",
    "    max_depth=6,\n",
    "    learning_rate=0.1,\n",
    "    random_state=42,\n",
    "    n_jobs=-1\n",
    ")\n",
    "\n",
    "xgb_model.fit(X_train, y_train)\n",
    "print('XGBoost training completed')"
   ]
  },
  {
   "cell_type": "code",
   "execution_count": 146,
   "metadata": {},
   "outputs": [
    {
     "name": "stdout",
     "output_type": "stream",
     "text": [
      "Training Random Forest model...\n",
      "Random Forest training completed\n"
     ]
    }
   ],
   "source": [
    "# Train Random Forest for comparison\n",
    "print('Training Random Forest model...')\n",
    "\n",
    "rf_model = RandomForestRegressor(\n",
    "    n_estimators=100,\n",
    "    max_depth=10,\n",
    "    random_state=42,\n",
    "    n_jobs=-1\n",
    ")\n",
    "\n",
    "rf_model.fit(X_train, y_train)\n",
    "print('Random Forest training completed')"
   ]
  },
  {
   "cell_type": "markdown",
   "metadata": {},
   "source": [
    "## 5. Model Evaluation"
   ]
  },
  {
   "cell_type": "code",
   "execution_count": 147,
   "metadata": {},
   "outputs": [
    {
     "name": "stdout",
     "output_type": "stream",
     "text": [
      "XGBoost Performance:\n",
      "   RMSE: 3.94 minutes\n",
      "   MAE:  1.63 minutes\n",
      "   R²:   0.285\n",
      "Random Forest Performance:\n",
      "   RMSE: 3.94 minutes\n",
      "   MAE:  1.61 minutes\n",
      "   R²:   0.284\n"
     ]
    }
   ],
   "source": [
    "def evaluate_model(model, X_test, y_test, model_name):\n",
    "    \"\"\"Evaluate model performance\"\"\"\n",
    "    y_pred = model.predict(X_test)\n",
    "    \n",
    "    # Ensure no negative predictions\n",
    "    y_pred = np.maximum(y_pred, 0)\n",
    "    \n",
    "    mse = mean_squared_error(y_test, y_pred)\n",
    "    mae = mean_absolute_error(y_test, y_pred)\n",
    "    r2 = r2_score(y_test, y_pred)\n",
    "    rmse = np.sqrt(mse)\n",
    "    \n",
    "    print(f'{model_name} Performance:')\n",
    "    print(f'   RMSE: {rmse:.2f} minutes')\n",
    "    print(f'   MAE:  {mae:.2f} minutes')\n",
    "    print(f'   R²:   {r2:.3f}')\n",
    "    \n",
    "    return {\n",
    "        'predictions': y_pred,\n",
    "        'rmse': rmse,\n",
    "        'mae': mae,\n",
    "        'r2': r2\n",
    "    }\n",
    "\n",
    "# Evaluate both models\n",
    "xgb_results = evaluate_model(xgb_model, X_test, y_test, 'XGBoost')\n",
    "rf_results = evaluate_model(rf_model, X_test, y_test, 'Random Forest')"
   ]
  },
  {
   "cell_type": "code",
   "execution_count": 148,
   "metadata": {},
   "outputs": [
    {
     "data": {
      "image/png": "[encoded data removed]",
      "text/plain": [
       "<Figure size 1500x600 with 2 Axes>"
      ]
     },
     "metadata": {},
     "output_type": "display_data"
    }
   ],
   "source": [
    "# Visualize predictions vs actual\n",
    "fig, axes = plt.subplots(1, 2, figsize=(15, 6))\n",
    "\n",
    "# XGBoost\n",
    "axes[0].scatter(y_test, xgb_results['predictions'], alpha=0.5, s=1)\n",
    "axes[0].plot([y_test.min(), y_test.max()], [y_test.min(), y_test.max()], 'r--', lw=2)\n",
    "axes[0].set_xlabel('Actual Delay (minutes)')\n",
    "axes[0].set_ylabel('Predicted Delay (minutes)')\n",
    "axes[0].set_title(f'XGBoost: R² = {xgb_results[\"r2\"]:.3f}')\n",
    "axes[0].grid(True)\n",
    "\n",
    "# Random Forest\n",
    "axes[1].scatter(y_test, rf_results['predictions'], alpha=0.5, s=1)\n",
    "axes[1].plot([y_test.min(), y_test.max()], [y_test.min(), y_test.max()], 'r--', lw=2)\n",
    "axes[1].set_xlabel('Actual Delay (minutes)')\n",
    "axes[1].set_ylabel('Predicted Delay (minutes)')\n",
    "axes[1].set_title(f'Random Forest: R² = {rf_results[\"r2\"]:.3f}')\n",
    "axes[1].grid(True)\n",
    "\n",
    "plt.tight_layout()\n",
    "plt.show()"
   ]
  },
  {
   "cell_type": "code",
   "execution_count": 149,
   "metadata": {},
   "outputs": [
    {
     "data": {
      "image/png": "[encoded data removed]",
      "text/plain": [
       "<Figure size 1000x600 with 1 Axes>"
      ]
     },
     "metadata": {},
     "output_type": "display_data"
    },
    {
     "name": "stdout",
     "output_type": "stream",
     "text": [
      "Top 5 Most Important Features:\n",
      "   is_rush_hour: 0.352\n",
      "   route: 0.257\n",
      "   hour_sin: 0.186\n",
      "   InformationOwner: 0.120\n",
      "   Hour: 0.085\n"
     ]
    }
   ],
   "source": [
    "# Feature importance\n",
    "feature_names = X.columns\n",
    "\n",
    "# XGBoost feature importance\n",
    "xgb_importance = pd.DataFrame({\n",
    "    'feature': feature_names,\n",
    "    'importance': xgb_model.feature_importances_\n",
    "}).sort_values('importance', ascending=False)\n",
    "\n",
    "plt.figure(figsize=(10, 6))\n",
    "sns.barplot(data=xgb_importance.head(5), x='importance', y='feature')\n",
    "plt.title('Top 5 Most Important Features (XGBoost)')\n",
    "plt.xlabel('Feature Importance')\n",
    "plt.tight_layout()\n",
    "plt.show()\n",
    "\n",
    "print('Top 5 Most Important Features:')\n",
    "for i, row in xgb_importance.head().iterrows():\n",
    "    print(f\"   {row['feature']}: {row['importance']:.3f}\")"
   ]
  },
  {
   "cell_type": "markdown",
   "metadata": {},
   "source": [
    "## 6. Model Selection and Saving"
   ]
  },
  {
   "cell_type": "code",
   "execution_count": 150,
   "metadata": {},
   "outputs": [
    {
     "name": "stdout",
     "output_type": "stream",
     "text": [
      "Best Model: XGBoost\n",
      "   RMSE: 3.94 minutes\n",
      "   MAE:  1.63 minutes\n",
      "   R²:   0.285\n"
     ]
    }
   ],
   "source": [
    "# Select best model based on RMSE\n",
    "if xgb_results['rmse'] < rf_results['rmse']:\n",
    "    best_model = xgb_model\n",
    "    best_model_name = 'XGBoost'\n",
    "    best_results = xgb_results\n",
    "else:\n",
    "    best_model = rf_model\n",
    "    best_model_name = 'Random Forest'\n",
    "    best_results = rf_results\n",
    "\n",
    "print(f\"Best Model: {best_model_name}\")\n",
    "print(f\"   RMSE: {best_results['rmse']:.2f} minutes\")\n",
    "print(f\"   MAE:  {best_results['mae']:.2f} minutes\")\n",
    "print(f\"   R²:   {best_results['r2']:.3f}\")"
   ]
  },
  {
   "cell_type": "code",
   "execution_count": 151,
   "metadata": {},
   "outputs": [
    {
     "name": "stdout",
     "output_type": "stream",
     "text": [
      "Saving model and encoders...\n",
      "Saved XGBoost model to 'trained_model.pkl'\n",
      "Saved encoders to 'encoders.pkl'\n",
      "Saved model info to 'model_info.json'\n"
     ]
    }
   ],
   "source": [
    "# Save the trained model and encoders\n",
    "print('Saving model and encoders...')\n",
    "\n",
    "# Save the best model\n",
    "joblib.dump(best_model, '../streamlit/trained_model.pkl')\n",
    "print(f\"Saved {best_model_name} model to 'trained_model.pkl'\")\n",
    "\n",
    "# Save encoders\n",
    "joblib.dump(label_encoders, '../streamlit/encoders.pkl')\n",
    "print(\"Saved encoders to 'encoders.pkl'\")\n",
    "\n",
    "se_stations = stations[stations['CountryCode'] == 'SE']\n",
    "code_name_map = stations[['LocationSignature', 'AdvertisedLocationName']].drop_duplicates()\n",
    "code_name_map.to_json('../streamlit/station_code_name_map.json', orient='records', force_ascii=False)\n",
    "\n",
    "\n",
    "# Save feature names for reference\n",
    "feature_info = {\n",
    "    'feature_names': list(feature_names),\n",
    "    'model_type': best_model_name,\n",
    "    'performance': {\n",
    "        'rmse': best_results['rmse'],\n",
    "        'mae': best_results['mae'],\n",
    "        'r2': best_results['r2']\n",
    "    }\n",
    "}\n",
    "\n",
    "import json\n",
    "# Get unique values\n",
    "info_owner_options = sorted(df_features['InformationOwner'].dropna().unique())\n",
    "\n",
    "# Save to JSON files in the streamlit directory\n",
    "with open('../streamlit/info_owner_options.json', 'w') as f:\n",
    "    json.dump(info_owner_options, f)\n",
    "\n",
    "\n",
    "\n",
    "\n",
    "with open('../streamlit/model_info.json', 'w') as f:\n",
    "    json.dump(feature_info, f, indent=2)\n",
    "print(\"Saved model info to 'model_info.json'\")"
   ]
  },
  {
   "cell_type": "markdown",
   "metadata": {},
   "source": [
    "## 7. Model Testing with Sample Predictions"
   ]
  },
  {
   "cell_type": "code",
   "execution_count": 152,
   "metadata": {},
   "outputs": [
    {
     "name": "stdout",
     "output_type": "stream",
     "text": [
      "Testing model with sample predictions:\n",
      "\n",
      "🚂 Mr → Äs at 08:00 → Predicted delay: 0.9 minutes\n",
      "🚂 Mr → Äs at 14:00 → Predicted delay: 0.5 minutes\n",
      "🚂 Mr → Äs at 18:00 → Predicted delay: 0.2 minutes\n",
      "\n",
      "🚂 Lr → G at 08:00 → Predicted delay: 0.5 minutes\n",
      "🚂 Lr → G at 14:00 → Predicted delay: 0.3 minutes\n",
      "🚂 Lr → G at 18:00 → Predicted delay: 0.4 minutes\n",
      "\n",
      "🚂 Söc → Gn at 08:00 → Predicted delay: 1.0 minutes\n",
      "🚂 Söc → Gn at 14:00 → Predicted delay: 0.6 minutes\n",
      "🚂 Söc → Gn at 18:00 → Predicted delay: 1.1 minutes\n",
      "\n",
      "🚂 Cr → Hm at 08:00 → Predicted delay: 0.2 minutes\n",
      "🚂 Cr → Hm at 14:00 → Predicted delay: 0.4 minutes\n",
      "🚂 Cr → Hm at 18:00 → Predicted delay: 0.5 minutes\n",
      "\n",
      "🚂 Lr → A at 08:00 → Predicted delay: 0.5 minutes\n",
      "🚂 Lr → A at 14:00 → Predicted delay: 0.3 minutes\n",
      "🚂 Lr → A at 18:00 → Predicted delay: 0.4 minutes\n",
      "\n"
     ]
    }
   ],
   "source": [
    "# Test the model with some sample predictions\n",
    "def make_sample_prediction(from_station, to_station, hour):\n",
    "    # Get station info from our data\n",
    "    sample_route = df_features[\n",
    "        (df_features['from_station'] == from_station) & \n",
    "        (df_features['to_station'] == to_station)\n",
    "    ]\n",
    "    \n",
    "    if sample_route.empty:\n",
    "        print(f'❌ No data found for route {from_station} → {to_station}')\n",
    "        return None\n",
    "    \n",
    "    # Use first available record for coordinates and route stats\n",
    "    route_data = sample_route.iloc[0]\n",
    "    \n",
    "    # Create prediction features\n",
    "    pred_features = {\n",
    "        'Hour': hour,\n",
    "        'hour_sin': np.sin(2 * np.pi * hour / 24),\n",
    "        'hour_cos': np.cos(2 * np.pi * hour / 24),\n",
    "        'is_rush_hour': (7 <= hour <= 9) or (17 <= hour <= 19),\n",
    "        'is_night': (hour <= 6) or (hour >= 22),\n",
    "        'InformationOwner': label_encoders['InformationOwner_encoder'].transform([route_data['InformationOwner']])[0],\n",
    "        'route': label_encoders['route_encoder'].transform([route_data['route']])[0]\n",
    "    }\n",
    "    \n",
    "    # Create feature array\n",
    "    X_pred = np.array([[pred_features[col] for col in feature_names]])\n",
    "    \n",
    "    # Make prediction\n",
    "    prediction = best_model.predict(X_pred)[0]\n",
    "    prediction = max(0, prediction)  # No negative delays\n",
    "    \n",
    "    return prediction\n",
    "\n",
    "# Test with sample routes\n",
    "print('Testing model with sample predictions:\\n')\n",
    "\n",
    "# Get some sample routes from our data\n",
    "sample_routes = df_features[['from_station', 'to_station']].drop_duplicates().head(5)\n",
    "\n",
    "for _, route in sample_routes.iterrows():\n",
    "    from_st = route['from_station']\n",
    "    to_st = route['to_station']\n",
    "    \n",
    "    # Test different hours\n",
    "    for test_hour in [8, 14, 18]:  # Morning rush, afternoon, evening rush\n",
    "        pred = make_sample_prediction(from_st, to_st, test_hour)\n",
    "        if pred is not None:\n",
    "            print(f'🚂 {from_st} → {to_st} at {test_hour:02d}:00 → Predicted delay: {pred:.1f} minutes')\n",
    "    print()"
   ]
  },
  {
   "cell_type": "markdown",
   "metadata": {},
   "source": [
    "## 8. Summary and Next Steps"
   ]
  },
  {
   "cell_type": "code",
   "execution_count": 153,
   "metadata": {},
   "outputs": [
    {
     "name": "stdout",
     "output_type": "stream",
     "text": [
      "\n",
      "============================================================\n",
      "🎉 MODEL TRAINING COMPLETE!\n",
      "============================================================\n",
      "📊 Best Model: XGBoost\n",
      "📈 Performance: RMSE = 3.94 min, R² = 0.285\n",
      "📁 Files created:\n",
      "   • trained_model.pkl (main model)\n",
      "   • encoders.pkl (label encoders)\n",
      "   • model_info.json (metadata)\n",
      "\n",
      "🚀 Next Steps:\n",
      "   1. Run the Streamlit app: streamlit run app.py\n",
      "   2. Test predictions with your own data\n",
      "   3. Deploy to Streamlit Cloud via GitHub\n",
      "   4. Share with users!\n",
      "============================================================\n"
     ]
    }
   ],
   "source": [
    "print('\\n' + '='*60)\n",
    "print('🎉 MODEL TRAINING COMPLETE!')\n",
    "print('='*60)\n",
    "print(f\"📊 Best Model: {best_model_name}\")\n",
    "print(f\"📈 Performance: RMSE = {best_results['rmse']:.2f} min, R² = {best_results['r2']:.3f}\")\n",
    "print(f'📁 Files created:')\n",
    "print(f'   • trained_model.pkl (main model)')\n",
    "print(f'   • encoders.pkl (label encoders)')\n",
    "print(f'   • model_info.json (metadata)')\n",
    "print('\\n🚀 Next Steps:')\n",
    "print('   1. Run the Streamlit app: streamlit run app.py')\n",
    "print('   2. Test predictions with your own data')\n",
    "print('   3. Deploy to Streamlit Cloud via GitHub')\n",
    "print('   4. Share with users!')\n",
    "print('='*60)"
   ]
  }
 ],
 "metadata": {
  "kernelspec": {
   "display_name": "Python 3",
   "language": "python",
   "name": "python3"
  },
  "language_info": {
   "codemirror_mode": {
    "name": "ipython",
    "version": 3
   },
   "file_extension": ".py",
   "mimetype": "text/x-python",
   "name": "python",
   "nbconvert_exporter": "python",
   "pygments_lexer": "ipython3",
   "version": "3.10.10"
  }
 },
 "nbformat": 4,
 "nbformat_minor": 4
}
