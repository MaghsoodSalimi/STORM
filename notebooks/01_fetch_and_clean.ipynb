
# 1. Imports
import pandas as pd
from fetch import fetch_departures  # from your script

# 2. Fetch data
df_raw = fetch_departures("Cst")  # Stockholm Central
df_raw.head()

# 3. Clean data
df_clean = pd.DataFrame({
    "Train ID": df_raw["AdvertisedTrainIdent"],
    "Scheduled Time": pd.to_datetime(df_raw["AdvertisedTimeAtLocation"]),
    "Estimated Time": pd.to_datetime(df_raw["EstimatedTimeAtLocation"]),
    "Actual Time": pd.to_datetime(df_raw["TimeAtLocation"]),
    "Track": df_raw["TrackAtLocation"],
    "To": df_raw["ToLocation"].apply(lambda x: x[0]["LocationName"] if isinstance(x, list) else None)
})

# 4. Calculate Delay
df_clean["Delay Minutes"] = (
    (df_clean["Estimated Time"] - df_clean["Scheduled Time"]).dt.total_seconds() / 60
)

df_clean.head()
